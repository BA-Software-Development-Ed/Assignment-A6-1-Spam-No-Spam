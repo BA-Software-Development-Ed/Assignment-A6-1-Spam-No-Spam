{
 "nbformat": 4,
 "nbformat_minor": 2,
 "metadata": {
  "language_info": {
   "name": "python",
   "codemirror_mode": {
    "name": "ipython",
    "version": 3
   },
   "version": "3.7.4-final"
  },
  "orig_nbformat": 2,
  "file_extension": ".py",
  "mimetype": "text/x-python",
  "name": "python",
  "npconvert_exporter": "python",
  "pygments_lexer": "ipython3",
  "version": 3,
  "kernelspec": {
   "name": "python3",
   "display_name": "Python 3"
  }
 },
 "cells": [
  {
   "cell_type": "markdown",
   "execution_count": null,
   "metadata": {},
   "outputs": [],
   "source": [
    "# Assignment A6-1 Spam or No-Spam\n",
    "\n",
    "_Subject_, **Artificial Intelligence**  \n",
    "_Topic_, **Machine Learning**  \n",
    "_Subtopic_, **Predictive Analytics with Naïve Bayes**  \n",
    "\n",
    "### Resources\n",
    "* [CPHBusiness | GitHub Pages](https://datsoftlyngby.github.io/soft2020spring/resources/35dc6d31-ML2006-1.pdf)\n",
    "* [CPHBusiness | presentaion 1](https://datsoftlyngby.github.io/soft2020spring/resources/35dc6d31-ML2006-1.pdf)\n",
    "* [CPHBusiness | presentaion 2](https://datsoftlyngby.github.io/soft2020spring/resources/999b0463-ML2006-2.pdf)\n",
    "* [Scikit-learn | Naive Bayes](https://scikit-learn.org/stable/modules/naive_bayes.html)\n",
    "\n",
    "### Content\n",
    "_Only works in jupyter notebooks_\n",
    "* [Naïve Bayes](#)\n",
    "* [Prepare Environment](#)\n",
    "* [Analyse Data](#)\n",
    "* [Preprocess Data](#)\n",
    "* [Create Model](#)\n",
    "* [Evaluate Model](#)\n",
    "* [Analyse Model](#)\n",
    "* [Validate Model](#)\n",
    "\n",
    "### Assignment\n",
    "Train a machine learning model to be able to recognise spam in text messages.  \n",
    "Use the attached data file and the class exercise E6-2 for inspiration."
   ]
  },
  {
   "cell_type": "markdown",
   "execution_count": null,
   "metadata": {},
   "outputs": [],
   "source": [
    "## Naïve Bayes"
   ]
  },
  {
   "cell_type": "markdown",
   "execution_count": null,
   "metadata": {},
   "outputs": [],
   "source": [
    "## Prepare Environment"
   ]
  },
  {
   "cell_type": "code",
   "execution_count": 1,
   "metadata": {},
   "outputs": [],
   "source": [
    "import numpy as np\n",
    "import pandas as pd\n",
    "import matplotlib.pyplot as plt\n",
    "import seaborn as sns\n",
    "%matplotlib inline\n",
    "\n",
    "# data preprocessing\n",
    "from sklearn.pipeline import make_pipeline\n",
    "from sklearn import model_selection\n",
    "from sklearn.feature_extraction.text import TfidfVectorizer\n",
    "\n",
    "# modelling\n",
    "from sklearn.naive_bayes import MultinomialNB\n",
    "\n",
    "# validation\n",
    "from sklearn.metrics import accuracy_score\n",
    "from sklearn.metrics import confusion_matrix\n",
    "from sklearn.metrics import classification_report"
   ]
  },
  {
   "cell_type": "markdown",
   "execution_count": null,
   "metadata": {},
   "outputs": [],
   "source": [
    "## Analyse Data"
   ]
  },
  {
   "cell_type": "code",
   "execution_count": 2,
   "metadata": {},
   "outputs": [
    {
     "data": {
      "text/plain": "(5559, 2)"
     },
     "execution_count": 2,
     "metadata": {},
     "output_type": "execute_result"
    }
   ],
   "source": [
    "# load dataset\n",
    "file_path = './data-assets/spam_source.csv'\n",
    "dataset = pd.read_csv(file_path)\n",
    "\n",
    "# display dataset shape\n",
    "dataset.shape"
   ]
  },
  {
   "cell_type": "code",
   "execution_count": 3,
   "metadata": {},
   "outputs": [
    {
     "data": {
      "text/html": "<div>\n<style scoped>\n    .dataframe tbody tr th:only-of-type {\n        vertical-align: middle;\n    }\n\n    .dataframe tbody tr th {\n        vertical-align: top;\n    }\n\n    .dataframe thead th {\n        text-align: right;\n    }\n</style>\n<table border=\"1\" class=\"dataframe\">\n  <thead>\n    <tr style=\"text-align: right;\">\n      <th></th>\n      <th>type</th>\n      <th>text</th>\n    </tr>\n  </thead>\n  <tbody>\n    <tr>\n      <th>0</th>\n      <td>ham</td>\n      <td>Hope you are having a good week. Just checking in</td>\n    </tr>\n    <tr>\n      <th>1</th>\n      <td>ham</td>\n      <td>K..give back my thanks.</td>\n    </tr>\n    <tr>\n      <th>2</th>\n      <td>ham</td>\n      <td>Am also doing in cbe only. But have to pay.</td>\n    </tr>\n    <tr>\n      <th>3</th>\n      <td>spam</td>\n      <td>complimentary 4 STAR Ibiza Holiday or £10,000 ...</td>\n    </tr>\n    <tr>\n      <th>4</th>\n      <td>spam</td>\n      <td>okmail: Dear Dave this is your final notice to...</td>\n    </tr>\n  </tbody>\n</table>\n</div>",
      "text/plain": "   type                                               text\n0   ham  Hope you are having a good week. Just checking in\n1   ham                            K..give back my thanks.\n2   ham        Am also doing in cbe only. But have to pay.\n3  spam  complimentary 4 STAR Ibiza Holiday or £10,000 ...\n4  spam  okmail: Dear Dave this is your final notice to..."
     },
     "execution_count": 3,
     "metadata": {},
     "output_type": "execute_result"
    }
   ],
   "source": [
    "# display dataset head\n",
    "dataset.head()"
   ]
  },
  {
   "cell_type": "code",
   "execution_count": 4,
   "metadata": {},
   "outputs": [
    {
     "data": {
      "text/plain": "ham     4812\nspam     747\nName: type, dtype: int64"
     },
     "execution_count": 4,
     "metadata": {},
     "output_type": "execute_result"
    }
   ],
   "source": [
    "# display distribution of classifiers\n",
    "dataset.type.value_counts()"
   ]
  },
  {
   "cell_type": "code",
   "execution_count": 5,
   "metadata": {},
   "outputs": [
    {
     "name": "stdout",
     "output_type": "stream",
     "text": "<class 'pandas.core.frame.DataFrame'>\nRangeIndex: 5559 entries, 0 to 5558\nData columns (total 2 columns):\n #   Column  Non-Null Count  Dtype \n---  ------  --------------  ----- \n 0   type    5559 non-null   object\n 1   text    5559 non-null   object\ndtypes: object(2)\nmemory usage: 87.0+ KB\n"
    }
   ],
   "source": [
    "# display dataset information\n",
    "dataset.info()"
   ]
  },
  {
   "cell_type": "markdown",
   "execution_count": null,
   "metadata": {},
   "outputs": [],
   "source": [
    "## Preprocess Data"
   ]
  },
  {
   "cell_type": "code",
   "execution_count": 6,
   "metadata": {},
   "outputs": [
    {
     "data": {
      "text/plain": "(4447, 7457)"
     },
     "execution_count": 6,
     "metadata": {},
     "output_type": "execute_result"
    }
   ],
   "source": [
    "# seperate features and labels from the dataset\n",
    "labels = dataset['type']\n",
    "features = dataset['text']\n",
    "\n",
    "# splitting the dataset into train and test sets\n",
    "X_train, X_test, y_train, y_test  = model_selection.train_test_split(features, labels, test_size=0.2, random_state=7)\n",
    "\n",
    "# \n",
    "tfidf = TfidfVectorizer(encoding='utf-8', lowercase=True, stop_words='english', max_df=0.5, sublinear_tf=True, use_idf=True)\n",
    "\n",
    "#\n",
    "word_vect = tfidf.fit_transform(X_train)\n",
    "\n",
    "# \n",
    "word_vect.shape"
   ]
  },
  {
   "cell_type": "code",
   "execution_count": 7,
   "metadata": {},
   "outputs": [
    {
     "data": {
      "text/plain": "(4447, 7457)"
     },
     "execution_count": 7,
     "metadata": {},
     "output_type": "execute_result"
    }
   ],
   "source": [
    "# \n",
    "word_vect.shape"
   ]
  },
  {
   "cell_type": "code",
   "execution_count": 8,
   "metadata": {},
   "outputs": [
    {
     "name": "stdout",
     "output_type": "stream",
     "text": "(0, 453)\t0.2626577944575732\n  (0, 4106)\t0.2626577944575732\n  (0, 258)\t0.1908779458329685\n  (0, 5913)\t0.2626577944575732\n  (0, 4436)\t0.2626577944575732\n  (0, 533)\t0.17301654601823138\n  (0, 319)\t0.17768766451177123\n  (0, 693)\t0.2535556983579993\n  (0, 2266)\t0.19557386983745165\n  (0, 6835)\t0.1410665208179753\n  (0, 1764)\t0.1561184818788633\n  (0, 260)\t0.18232611451754807\n  (0, 2530)\t0.2626577944575732\n  (0, 801)\t0.2626577944575732\n  (0, 6767)\t0.2626577944575732\n  (0, 2565)\t0.2626577944575732\n  (0, 6783)\t0.2077760099723366\n  (0, 1877)\t0.22154922456545034\n  (0, 1138)\t0.1849280808716544\n  (0, 6935)\t0.12209485173111802\n  (0, 6939)\t0.1694974305902824\n  (1, 7167)\t0.34280452667746797\n  (1, 1184)\t0.32789251523592317\n  (1, 5078)\t0.3022998931176685\n  (1, 3891)\t0.3697806661643059\n  :\t:\n  (2, 638)\t0.21306589619424862\n  (2, 3738)\t0.11843905538404081\n  (2, 4393)\t0.1994568750319333\n  (2, 6708)\t0.31507693040670604\n  (2, 4648)\t0.30274084736952916\n  (2, 4641)\t0.2330796248982459\n  (2, 7171)\t0.26661489139560585\n  (2, 335)\t0.18995341432794852\n  (2, 2881)\t0.13377470848387685\n  (2, 6835)\t0.14195248073847277\n  (2, 6935)\t0.20802287527442295\n  (3, 1713)\t0.6254190051608918\n  (3, 1847)\t0.3876496254645402\n  (3, 5056)\t0.6771844917456113\n  (4, 4713)\t0.2860195822486049\n  (4, 3147)\t0.22699350445084404\n  (4, 2328)\t0.19112989694456062\n  (4, 3960)\t0.384333412066368\n  (4, 1284)\t0.4073382937943989\n  (4, 4362)\t0.3739396757108597\n  (4, 4269)\t0.3083126834797919\n  (4, 1302)\t0.24294465202624593\n  (4, 3987)\t0.24058055818850133\n  (4, 5950)\t0.3027897740559398\n  (4, 6935)\t0.27023897704618066\n"
    }
   ],
   "source": [
    "# \n",
    "print(word_vect[0:5, ])"
   ]
  },
  {
   "cell_type": "code",
   "execution_count": 10,
   "metadata": {},
   "outputs": [
    {
     "data": {
      "text/html": "<div>\n<style scoped>\n    .dataframe tbody tr th:only-of-type {\n        vertical-align: middle;\n    }\n\n    .dataframe tbody tr th {\n        vertical-align: top;\n    }\n\n    .dataframe thead th {\n        text-align: right;\n    }\n</style>\n<table border=\"1\" class=\"dataframe\">\n  <thead>\n    <tr style=\"text-align: right;\">\n      <th></th>\n      <th>tfidf</th>\n    </tr>\n  </thead>\n  <tbody>\n    <tr>\n      <th>eurodisinc</th>\n      <td>0.262658</td>\n    </tr>\n    <tr>\n      <th>morefrmmob</th>\n      <td>0.262658</td>\n    </tr>\n    <tr>\n      <th>entry41</th>\n      <td>0.262658</td>\n    </tr>\n    <tr>\n      <th>aco</th>\n      <td>0.262658</td>\n    </tr>\n    <tr>\n      <th>ls1</th>\n      <td>0.262658</td>\n    </tr>\n    <tr>\n      <th>...</th>\n      <td>...</td>\n    </tr>\n    <tr>\n      <th>embarassing</th>\n      <td>0.000000</td>\n    </tr>\n    <tr>\n      <th>embarassed</th>\n      <td>0.000000</td>\n    </tr>\n    <tr>\n      <th>emailed</th>\n      <td>0.000000</td>\n    </tr>\n    <tr>\n      <th>email</th>\n      <td>0.000000</td>\n    </tr>\n    <tr>\n      <th>œharry</th>\n      <td>0.000000</td>\n    </tr>\n  </tbody>\n</table>\n<p>7457 rows × 1 columns</p>\n</div>",
      "text/plain": "                tfidf\neurodisinc   0.262658\nmorefrmmob   0.262658\nentry41      0.262658\naco          0.262658\nls1          0.262658\n...               ...\nembarassing  0.000000\nembarassed   0.000000\nemailed      0.000000\nemail        0.000000\nœharry       0.000000\n\n[7457 rows x 1 columns]"
     },
     "execution_count": 10,
     "metadata": {},
     "output_type": "execute_result"
    }
   ],
   "source": [
    "# get the vector for the first document\n",
    "first_vector = word_vect[0]\n",
    " \n",
    "# place tf-idf values in a pandas data frame to see it in more readable format\n",
    "df = pd.DataFrame(first_vector.T.todense(), index=tfidf.get_feature_names(), columns=[\"tfidf\"])\n",
    "df.sort_values(by=[\"tfidf\"],ascending=False)"
   ]
  },
  {
   "cell_type": "markdown",
   "execution_count": null,
   "metadata": {},
   "outputs": [],
   "source": [
    "## Create Model"
   ]
  },
  {
   "cell_type": "code",
   "execution_count": 9,
   "metadata": {},
   "outputs": [
    {
     "data": {
      "text/plain": "Pipeline(memory=None,\n         steps=[('tfidfvectorizer',\n                 TfidfVectorizer(analyzer='word', binary=False,\n                                 decode_error='strict',\n                                 dtype=<class 'numpy.float64'>,\n                                 encoding='utf-8', input='content',\n                                 lowercase=True, max_df=0.5, max_features=None,\n                                 min_df=1, ngram_range=(1, 1), norm='l2',\n                                 preprocessor=None, smooth_idf=True,\n                                 stop_words='english', strip_accents=None,\n                                 sublinear_tf=True,\n                                 token_pattern='(?u)\\\\b\\\\w\\\\w+\\\\b',\n                                 tokenizer=None, use_idf=True,\n                                 vocabulary=None)),\n                ('multinomialnb',\n                 MultinomialNB(alpha=1.0, class_prior=None, fit_prior=True))],\n         verbose=False)"
     },
     "execution_count": 9,
     "metadata": {},
     "output_type": "execute_result"
    }
   ],
   "source": [
    "# we choose multinomial naive bayes\n",
    "classifier = MultinomialNB()\n",
    "\n",
    "# connect the vectorizer to the multinomial classifier\n",
    "model = make_pipeline(tfidf, classifier)\n",
    "\n",
    "# train a model\n",
    "model.fit(X_train, y_train)"
   ]
  },
  {
   "cell_type": "markdown",
   "execution_count": null,
   "metadata": {},
   "outputs": [],
   "source": [
    "## Evaluate Model"
   ]
  },
  {
   "cell_type": "code",
   "execution_count": 11,
   "metadata": {},
   "outputs": [
    {
     "data": {
      "text/plain": "0.9703237410071942"
     },
     "execution_count": 11,
     "metadata": {},
     "output_type": "execute_result"
    }
   ],
   "source": [
    "# use the trained model to predict categories for the test data\n",
    "y_predicted = model.predict(X_test)\n",
    "\n",
    "# diplay model score\n",
    "model.score(X_test, y_test)"
   ]
  },
  {
   "cell_type": "markdown",
   "execution_count": null,
   "metadata": {},
   "outputs": [],
   "source": [
    "## Validate Model"
   ]
  },
  {
   "cell_type": "code",
   "execution_count": 19,
   "metadata": {},
   "outputs": [
    {
     "data": {
      "text/plain": "0.9703237410071942"
     },
     "execution_count": 19,
     "metadata": {},
     "output_type": "execute_result"
    }
   ],
   "source": [
    "# \n",
    "accuracy_score(y_test, y_predicted)"
   ]
  },
  {
   "cell_type": "code",
   "execution_count": 20,
   "metadata": {},
   "outputs": [],
   "source": [
    "#\n",
    "cmat = confusion_matrix(y_test, y_predicted)"
   ]
  },
  {
   "cell_type": "code",
   "execution_count": 21,
   "metadata": {},
   "outputs": [
    {
     "data": {
      "image/png": "[encoded data removed]",
      "image/svg+xml": "<?xml version=\"1.0\" encoding=\"utf-8\" standalone=\"no\"?>\n<!DOCTYPE svg PUBLIC \"-//W3C//DTD SVG 1.1//EN\"\n  \"http://www.w3.org/Graphics/SVG/1.1/DTD/svg11.dtd\">\n<!-- Created with matplotlib (https://matplotlib.org/) -->\n<svg height=\"266.374219pt\" version=\"1.1\" viewBox=\"0 0 266.374219 266.374219\" width=\"266.374219pt\" xmlns=\"http://www.w3.org/2000/svg\" xmlns:xlink=\"http://www.w3.org/1999/xlink\">\n <defs>\n  <style type=\"text/css\">\n*{stroke-linecap:butt;stroke-linejoin:round;}\n  </style>\n </defs>\n <g id=\"figure_1\">\n  <g id=\"patch_1\">\n   <path d=\"M 0 266.374219 \nL 266.374219 266.374219 \nL 266.374219 0 \nL 0 0 \nz\n\" style=\"fill:#ffffff;\"/>\n  </g>\n  <g id=\"axes_1\">\n   <g id=\"patch_2\">\n    <path d=\"M 41.734219 224.64 \nL 259.174219 224.64 \nL 259.174219 7.2 \nL 41.734219 7.2 \nz\n\" style=\"fill:#eaeaf2;\"/>\n   </g>\n   <g id=\"matplotlib.axis_1\">\n    <g id=\"xtick_1\">\n     <g id=\"text_1\">\n      <!-- ham -->\n      <defs>\n       <path d=\"M 6.59375 0 \nL 6.59375 71.578125 \nL 15.375 71.578125 \nL 15.375 45.90625 \nQ 21.53125 53.03125 30.90625 53.03125 \nQ 36.671875 53.03125 40.921875 50.75 \nQ 45.171875 48.484375 47 44.484375 \nQ 48.828125 40.484375 48.828125 32.859375 \nL 48.828125 0 \nL 40.046875 0 \nL 40.046875 32.859375 \nQ 40.046875 39.453125 37.1875 42.453125 \nQ 34.328125 45.453125 29.109375 45.453125 \nQ 25.203125 45.453125 21.75 43.421875 \nQ 18.3125 41.40625 16.84375 37.9375 \nQ 15.375 34.46875 15.375 28.375 \nL 15.375 0 \nz\n\" id=\"ArialMT-104\"/>\n       <path d=\"M 40.4375 6.390625 \nQ 35.546875 2.25 31.03125 0.53125 \nQ 26.515625 -1.171875 21.34375 -1.171875 \nQ 12.796875 -1.171875 8.203125 3 \nQ 3.609375 7.171875 3.609375 13.671875 \nQ 3.609375 17.484375 5.34375 20.625 \nQ 7.078125 23.78125 9.890625 25.6875 \nQ 12.703125 27.59375 16.21875 28.5625 \nQ 18.796875 29.25 24.03125 29.890625 \nQ 34.671875 31.15625 39.703125 32.90625 \nQ 39.75 34.71875 39.75 35.203125 \nQ 39.75 40.578125 37.25 42.78125 \nQ 33.890625 45.75 27.25 45.75 \nQ 21.046875 45.75 18.09375 43.578125 \nQ 15.140625 41.40625 13.71875 35.890625 \nL 5.125 37.0625 \nQ 6.296875 42.578125 8.984375 45.96875 \nQ 11.671875 49.359375 16.75 51.1875 \nQ 21.828125 53.03125 28.515625 53.03125 \nQ 35.15625 53.03125 39.296875 51.46875 \nQ 43.453125 49.90625 45.40625 47.53125 \nQ 47.359375 45.171875 48.140625 41.546875 \nQ 48.578125 39.3125 48.578125 33.453125 \nL 48.578125 21.734375 \nQ 48.578125 9.46875 49.140625 6.21875 \nQ 49.703125 2.984375 51.375 0 \nL 42.1875 0 \nQ 40.828125 2.734375 40.4375 6.390625 \nz\nM 39.703125 26.03125 \nQ 34.90625 24.078125 25.34375 22.703125 \nQ 19.921875 21.921875 17.671875 20.9375 \nQ 15.4375 19.96875 14.203125 18.09375 \nQ 12.984375 16.21875 12.984375 13.921875 \nQ 12.984375 10.40625 15.640625 8.0625 \nQ 18.3125 5.71875 23.4375 5.71875 \nQ 28.515625 5.71875 32.46875 7.9375 \nQ 36.421875 10.15625 38.28125 14.015625 \nQ 39.703125 17 39.703125 22.796875 \nz\n\" id=\"ArialMT-97\"/>\n       <path d=\"M 6.59375 0 \nL 6.59375 51.859375 \nL 14.453125 51.859375 \nL 14.453125 44.578125 \nQ 16.890625 48.390625 20.9375 50.703125 \nQ 25 53.03125 30.171875 53.03125 \nQ 35.9375 53.03125 39.625 50.640625 \nQ 43.3125 48.25 44.828125 43.953125 \nQ 50.984375 53.03125 60.84375 53.03125 \nQ 68.5625 53.03125 72.703125 48.75 \nQ 76.859375 44.484375 76.859375 35.59375 \nL 76.859375 0 \nL 68.109375 0 \nL 68.109375 32.671875 \nQ 68.109375 37.9375 67.25 40.25 \nQ 66.40625 42.578125 64.15625 43.984375 \nQ 61.921875 45.40625 58.890625 45.40625 \nQ 53.421875 45.40625 49.796875 41.765625 \nQ 46.1875 38.140625 46.1875 30.125 \nL 46.1875 0 \nL 37.40625 0 \nL 37.40625 33.6875 \nQ 37.40625 39.546875 35.25 42.46875 \nQ 33.109375 45.40625 28.21875 45.40625 \nQ 24.515625 45.40625 21.359375 43.453125 \nQ 18.21875 41.5 16.796875 37.734375 \nQ 15.375 33.984375 15.375 26.90625 \nL 15.375 0 \nz\n\" id=\"ArialMT-109\"/>\n      </defs>\n      <g style=\"fill:#262626;\" transform=\"translate(85.395859 242.013594)scale(0.11 -0.11)\">\n       <use xlink:href=\"#ArialMT-104\"/>\n       <use x=\"55.615234\" xlink:href=\"#ArialMT-97\"/>\n       <use x=\"111.230469\" xlink:href=\"#ArialMT-109\"/>\n      </g>\n     </g>\n    </g>\n    <g id=\"xtick_2\">\n     <g id=\"text_2\">\n      <!-- spam -->\n      <defs>\n       <path d=\"M 3.078125 15.484375 \nL 11.765625 16.84375 \nQ 12.5 11.625 15.84375 8.84375 \nQ 19.1875 6.0625 25.203125 6.0625 \nQ 31.25 6.0625 34.171875 8.515625 \nQ 37.109375 10.984375 37.109375 14.3125 \nQ 37.109375 17.28125 34.515625 19 \nQ 32.71875 20.171875 25.53125 21.96875 \nQ 15.875 24.421875 12.140625 26.203125 \nQ 8.40625 27.984375 6.46875 31.125 \nQ 4.546875 34.28125 4.546875 38.09375 \nQ 4.546875 41.546875 6.125 44.5 \nQ 7.71875 47.46875 10.453125 49.421875 \nQ 12.5 50.921875 16.03125 51.96875 \nQ 19.578125 53.03125 23.640625 53.03125 \nQ 29.734375 53.03125 34.34375 51.265625 \nQ 38.96875 49.515625 41.15625 46.5 \nQ 43.359375 43.5 44.1875 38.484375 \nL 35.59375 37.3125 \nQ 35.015625 41.3125 32.203125 43.546875 \nQ 29.390625 45.796875 24.265625 45.796875 \nQ 18.21875 45.796875 15.625 43.796875 \nQ 13.03125 41.796875 13.03125 39.109375 \nQ 13.03125 37.40625 14.109375 36.03125 \nQ 15.1875 34.625 17.484375 33.6875 \nQ 18.796875 33.203125 25.25 31.453125 \nQ 34.578125 28.953125 38.25 27.359375 \nQ 41.9375 25.78125 44.03125 22.75 \nQ 46.140625 19.734375 46.140625 15.234375 \nQ 46.140625 10.84375 43.578125 6.953125 \nQ 41.015625 3.078125 36.171875 0.953125 \nQ 31.34375 -1.171875 25.25 -1.171875 \nQ 15.140625 -1.171875 9.84375 3.03125 \nQ 4.546875 7.234375 3.078125 15.484375 \nz\n\" id=\"ArialMT-115\"/>\n       <path d=\"M 6.59375 -19.875 \nL 6.59375 51.859375 \nL 14.59375 51.859375 \nL 14.59375 45.125 \nQ 17.4375 49.078125 21 51.046875 \nQ 24.5625 53.03125 29.640625 53.03125 \nQ 36.28125 53.03125 41.359375 49.609375 \nQ 46.4375 46.1875 49.015625 39.953125 \nQ 51.609375 33.734375 51.609375 26.3125 \nQ 51.609375 18.359375 48.75 11.984375 \nQ 45.90625 5.609375 40.453125 2.21875 \nQ 35.015625 -1.171875 29 -1.171875 \nQ 24.609375 -1.171875 21.109375 0.6875 \nQ 17.625 2.546875 15.375 5.375 \nL 15.375 -19.875 \nz\nM 14.546875 25.640625 \nQ 14.546875 15.625 18.59375 10.84375 \nQ 22.65625 6.0625 28.421875 6.0625 \nQ 34.28125 6.0625 38.453125 11.015625 \nQ 42.625 15.96875 42.625 26.375 \nQ 42.625 36.28125 38.546875 41.203125 \nQ 34.46875 46.140625 28.8125 46.140625 \nQ 23.1875 46.140625 18.859375 40.890625 \nQ 14.546875 35.640625 14.546875 25.640625 \nz\n\" id=\"ArialMT-112\"/>\n      </defs>\n      <g style=\"fill:#262626;\" transform=\"translate(191.365859 242.013594)scale(0.11 -0.11)\">\n       <use xlink:href=\"#ArialMT-115\"/>\n       <use x=\"50\" xlink:href=\"#ArialMT-112\"/>\n       <use x=\"105.615234\" xlink:href=\"#ArialMT-97\"/>\n       <use x=\"161.230469\" xlink:href=\"#ArialMT-109\"/>\n      </g>\n     </g>\n    </g>\n    <g id=\"text_3\">\n     <!-- actual -->\n     <defs>\n      <path d=\"M 40.4375 19 \nL 49.078125 17.875 \nQ 47.65625 8.9375 41.8125 3.875 \nQ 35.984375 -1.171875 27.484375 -1.171875 \nQ 16.84375 -1.171875 10.375 5.78125 \nQ 3.90625 12.75 3.90625 25.734375 \nQ 3.90625 34.125 6.6875 40.421875 \nQ 9.46875 46.734375 15.15625 49.875 \nQ 20.84375 53.03125 27.546875 53.03125 \nQ 35.984375 53.03125 41.359375 48.75 \nQ 46.734375 44.484375 48.25 36.625 \nL 39.703125 35.296875 \nQ 38.484375 40.53125 35.375 43.15625 \nQ 32.28125 45.796875 27.875 45.796875 \nQ 21.234375 45.796875 17.078125 41.03125 \nQ 12.9375 36.28125 12.9375 25.984375 \nQ 12.9375 15.53125 16.9375 10.796875 \nQ 20.953125 6.0625 27.390625 6.0625 \nQ 32.5625 6.0625 36.03125 9.234375 \nQ 39.5 12.40625 40.4375 19 \nz\n\" id=\"ArialMT-99\"/>\n      <path d=\"M 25.78125 7.859375 \nL 27.046875 0.09375 \nQ 23.34375 -0.6875 20.40625 -0.6875 \nQ 15.625 -0.6875 12.984375 0.828125 \nQ 10.359375 2.34375 9.28125 4.8125 \nQ 8.203125 7.28125 8.203125 15.1875 \nL 8.203125 45.015625 \nL 1.765625 45.015625 \nL 1.765625 51.859375 \nL 8.203125 51.859375 \nL 8.203125 64.703125 \nL 16.9375 69.96875 \nL 16.9375 51.859375 \nL 25.78125 51.859375 \nL 25.78125 45.015625 \nL 16.9375 45.015625 \nL 16.9375 14.703125 \nQ 16.9375 10.9375 17.40625 9.859375 \nQ 17.875 8.796875 18.921875 8.15625 \nQ 19.96875 7.515625 21.921875 7.515625 \nQ 23.390625 7.515625 25.78125 7.859375 \nz\n\" id=\"ArialMT-116\"/>\n      <path d=\"M 40.578125 0 \nL 40.578125 7.625 \nQ 34.515625 -1.171875 24.125 -1.171875 \nQ 19.53125 -1.171875 15.546875 0.578125 \nQ 11.578125 2.34375 9.640625 5 \nQ 7.71875 7.671875 6.9375 11.53125 \nQ 6.390625 14.109375 6.390625 19.734375 \nL 6.390625 51.859375 \nL 15.1875 51.859375 \nL 15.1875 23.09375 \nQ 15.1875 16.21875 15.71875 13.8125 \nQ 16.546875 10.359375 19.234375 8.375 \nQ 21.921875 6.390625 25.875 6.390625 \nQ 29.828125 6.390625 33.296875 8.421875 \nQ 36.765625 10.453125 38.203125 13.9375 \nQ 39.65625 17.4375 39.65625 24.078125 \nL 39.65625 51.859375 \nL 48.4375 51.859375 \nL 48.4375 0 \nz\n\" id=\"ArialMT-117\"/>\n      <path d=\"M 6.390625 0 \nL 6.390625 71.578125 \nL 15.1875 71.578125 \nL 15.1875 0 \nz\n\" id=\"ArialMT-108\"/>\n     </defs>\n     <g style=\"fill:#262626;\" transform=\"translate(134.444531 256.789219)scale(0.12 -0.12)\">\n      <use xlink:href=\"#ArialMT-97\"/>\n      <use x=\"55.615234\" xlink:href=\"#ArialMT-99\"/>\n      <use x=\"105.615234\" xlink:href=\"#ArialMT-116\"/>\n      <use x=\"133.398438\" xlink:href=\"#ArialMT-117\"/>\n      <use x=\"189.013672\" xlink:href=\"#ArialMT-97\"/>\n      <use x=\"244.628906\" xlink:href=\"#ArialMT-108\"/>\n     </g>\n    </g>\n   </g>\n   <g id=\"matplotlib.axis_2\">\n    <g id=\"ytick_1\">\n     <g id=\"text_4\">\n      <!-- ham -->\n      <g style=\"fill:#262626;\" transform=\"translate(30.047969 79.019922)rotate(-90)scale(0.11 -0.11)\">\n       <use xlink:href=\"#ArialMT-104\"/>\n       <use x=\"55.615234\" xlink:href=\"#ArialMT-97\"/>\n       <use x=\"111.230469\" xlink:href=\"#ArialMT-109\"/>\n      </g>\n     </g>\n    </g>\n    <g id=\"ytick_2\">\n     <g id=\"text_5\">\n      <!-- spam -->\n      <g style=\"fill:#262626;\" transform=\"translate(30.047969 193.239922)rotate(-90)scale(0.11 -0.11)\">\n       <use xlink:href=\"#ArialMT-115\"/>\n       <use x=\"50\" xlink:href=\"#ArialMT-112\"/>\n       <use x=\"105.615234\" xlink:href=\"#ArialMT-97\"/>\n       <use x=\"161.230469\" xlink:href=\"#ArialMT-109\"/>\n      </g>\n     </g>\n    </g>\n    <g id=\"text_6\">\n     <!-- predicted -->\n     <defs>\n      <path d=\"M 6.5 0 \nL 6.5 51.859375 \nL 14.40625 51.859375 \nL 14.40625 44 \nQ 17.4375 49.515625 20 51.265625 \nQ 22.5625 53.03125 25.640625 53.03125 \nQ 30.078125 53.03125 34.671875 50.203125 \nL 31.640625 42.046875 \nQ 28.421875 43.953125 25.203125 43.953125 \nQ 22.3125 43.953125 20.015625 42.21875 \nQ 17.71875 40.484375 16.75 37.40625 \nQ 15.28125 32.71875 15.28125 27.15625 \nL 15.28125 0 \nz\n\" id=\"ArialMT-114\"/>\n      <path d=\"M 42.09375 16.703125 \nL 51.171875 15.578125 \nQ 49.03125 7.625 43.21875 3.21875 \nQ 37.40625 -1.171875 28.375 -1.171875 \nQ 17 -1.171875 10.328125 5.828125 \nQ 3.65625 12.84375 3.65625 25.484375 \nQ 3.65625 38.578125 10.390625 45.796875 \nQ 17.140625 53.03125 27.875 53.03125 \nQ 38.28125 53.03125 44.875 45.953125 \nQ 51.46875 38.875 51.46875 26.03125 \nQ 51.46875 25.25 51.421875 23.6875 \nL 12.75 23.6875 \nQ 13.234375 15.140625 17.578125 10.59375 \nQ 21.921875 6.0625 28.421875 6.0625 \nQ 33.25 6.0625 36.671875 8.59375 \nQ 40.09375 11.140625 42.09375 16.703125 \nz\nM 13.234375 30.90625 \nL 42.1875 30.90625 \nQ 41.609375 37.453125 38.875 40.71875 \nQ 34.671875 45.796875 27.984375 45.796875 \nQ 21.921875 45.796875 17.796875 41.75 \nQ 13.671875 37.703125 13.234375 30.90625 \nz\n\" id=\"ArialMT-101\"/>\n      <path d=\"M 40.234375 0 \nL 40.234375 6.546875 \nQ 35.296875 -1.171875 25.734375 -1.171875 \nQ 19.53125 -1.171875 14.328125 2.25 \nQ 9.125 5.671875 6.265625 11.796875 \nQ 3.421875 17.921875 3.421875 25.875 \nQ 3.421875 33.640625 6 39.96875 \nQ 8.59375 46.296875 13.765625 49.65625 \nQ 18.953125 53.03125 25.34375 53.03125 \nQ 30.03125 53.03125 33.6875 51.046875 \nQ 37.359375 49.078125 39.65625 45.90625 \nL 39.65625 71.578125 \nL 48.390625 71.578125 \nL 48.390625 0 \nz\nM 12.453125 25.875 \nQ 12.453125 15.921875 16.640625 10.984375 \nQ 20.84375 6.0625 26.5625 6.0625 \nQ 32.328125 6.0625 36.34375 10.765625 \nQ 40.375 15.484375 40.375 25.140625 \nQ 40.375 35.796875 36.265625 40.765625 \nQ 32.171875 45.75 26.171875 45.75 \nQ 20.3125 45.75 16.375 40.96875 \nQ 12.453125 36.1875 12.453125 25.875 \nz\n\" id=\"ArialMT-100\"/>\n      <path d=\"M 6.640625 61.46875 \nL 6.640625 71.578125 \nL 15.4375 71.578125 \nL 15.4375 61.46875 \nz\nM 6.640625 0 \nL 6.640625 51.859375 \nL 15.4375 51.859375 \nL 15.4375 0 \nz\n\" id=\"ArialMT-105\"/>\n     </defs>\n     <g style=\"fill:#262626;\" transform=\"translate(15.789375 140.600625)rotate(-90)scale(0.12 -0.12)\">\n      <use xlink:href=\"#ArialMT-112\"/>\n      <use x=\"55.615234\" xlink:href=\"#ArialMT-114\"/>\n      <use x=\"88.916016\" xlink:href=\"#ArialMT-101\"/>\n      <use x=\"144.53125\" xlink:href=\"#ArialMT-100\"/>\n      <use x=\"200.146484\" xlink:href=\"#ArialMT-105\"/>\n      <use x=\"222.363281\" xlink:href=\"#ArialMT-99\"/>\n      <use x=\"272.363281\" xlink:href=\"#ArialMT-116\"/>\n      <use x=\"300.146484\" xlink:href=\"#ArialMT-101\"/>\n      <use x=\"355.761719\" xlink:href=\"#ArialMT-100\"/>\n     </g>\n    </g>\n   </g>\n   <g id=\"QuadMesh_1\">\n    <path clip-path=\"url(#p3bc3920c10)\" d=\"M 41.734219 7.2 \nL 150.454219 7.2 \nL 150.454219 115.92 \nL 41.734219 115.92 \nL 41.734219 7.2 \n\" style=\"fill:#faebdd;\"/>\n    <path clip-path=\"url(#p3bc3920c10)\" d=\"M 150.454219 7.2 \nL 259.174219 7.2 \nL 259.174219 115.92 \nL 150.454219 115.92 \nL 150.454219 7.2 \n\" style=\"fill:#0d0a21;\"/>\n    <path clip-path=\"url(#p3bc3920c10)\" d=\"M 41.734219 115.92 \nL 150.454219 115.92 \nL 150.454219 224.64 \nL 41.734219 224.64 \nL 41.734219 115.92 \n\" style=\"fill:#03051a;\"/>\n    <path clip-path=\"url(#p3bc3920c10)\" d=\"M 150.454219 115.92 \nL 259.174219 115.92 \nL 259.174219 224.64 \nL 150.454219 224.64 \nL 150.454219 115.92 \n\" style=\"fill:#2d1738;\"/>\n   </g>\n   <g id=\"text_7\">\n    <!-- 963 -->\n    <defs>\n     <path d=\"M 5.46875 16.546875 \nL 13.921875 17.328125 \nQ 14.984375 11.375 18.015625 8.6875 \nQ 21.046875 6 25.78125 6 \nQ 29.828125 6 32.875 7.859375 \nQ 35.9375 9.71875 37.890625 12.8125 \nQ 39.84375 15.921875 41.15625 21.1875 \nQ 42.484375 26.46875 42.484375 31.9375 \nQ 42.484375 32.515625 42.4375 33.6875 \nQ 39.796875 29.5 35.234375 26.875 \nQ 30.671875 24.265625 25.34375 24.265625 \nQ 16.453125 24.265625 10.296875 30.703125 \nQ 4.15625 37.15625 4.15625 47.703125 \nQ 4.15625 58.59375 10.578125 65.234375 \nQ 17 71.875 26.65625 71.875 \nQ 33.640625 71.875 39.421875 68.109375 \nQ 45.21875 64.359375 48.21875 57.390625 \nQ 51.21875 50.4375 51.21875 37.25 \nQ 51.21875 23.53125 48.234375 15.40625 \nQ 45.265625 7.28125 39.375 3.03125 \nQ 33.5 -1.21875 25.59375 -1.21875 \nQ 17.1875 -1.21875 11.859375 3.4375 \nQ 6.546875 8.109375 5.46875 16.546875 \nz\nM 41.453125 48.140625 \nQ 41.453125 55.71875 37.421875 60.15625 \nQ 33.40625 64.59375 27.734375 64.59375 \nQ 21.875 64.59375 17.53125 59.8125 \nQ 13.1875 55.03125 13.1875 47.40625 \nQ 13.1875 40.578125 17.3125 36.296875 \nQ 21.4375 32.03125 27.484375 32.03125 \nQ 33.59375 32.03125 37.515625 36.296875 \nQ 41.453125 40.578125 41.453125 48.140625 \nz\n\" id=\"ArialMT-57\"/>\n     <path d=\"M 49.75 54.046875 \nL 41.015625 53.375 \nQ 39.84375 58.546875 37.703125 60.890625 \nQ 34.125 64.65625 28.90625 64.65625 \nQ 24.703125 64.65625 21.53125 62.3125 \nQ 17.390625 59.28125 14.984375 53.46875 \nQ 12.59375 47.65625 12.5 36.921875 \nQ 15.671875 41.75 20.265625 44.09375 \nQ 24.859375 46.4375 29.890625 46.4375 \nQ 38.671875 46.4375 44.84375 39.96875 \nQ 51.03125 33.5 51.03125 23.25 \nQ 51.03125 16.5 48.125 10.71875 \nQ 45.21875 4.9375 40.140625 1.859375 \nQ 35.0625 -1.21875 28.609375 -1.21875 \nQ 17.625 -1.21875 10.6875 6.859375 \nQ 3.765625 14.9375 3.765625 33.5 \nQ 3.765625 54.25 11.421875 63.671875 \nQ 18.109375 71.875 29.4375 71.875 \nQ 37.890625 71.875 43.28125 67.140625 \nQ 48.6875 62.40625 49.75 54.046875 \nz\nM 13.875 23.1875 \nQ 13.875 18.65625 15.796875 14.5 \nQ 17.71875 10.359375 21.1875 8.171875 \nQ 24.65625 6 28.46875 6 \nQ 34.03125 6 38.03125 10.484375 \nQ 42.046875 14.984375 42.046875 22.703125 \nQ 42.046875 30.125 38.078125 34.390625 \nQ 34.125 38.671875 28.125 38.671875 \nQ 22.171875 38.671875 18.015625 34.390625 \nQ 13.875 30.125 13.875 23.1875 \nz\n\" id=\"ArialMT-54\"/>\n     <path d=\"M 4.203125 18.890625 \nL 12.984375 20.0625 \nQ 14.5 12.59375 18.140625 9.296875 \nQ 21.78125 6 27 6 \nQ 33.203125 6 37.46875 10.296875 \nQ 41.75 14.59375 41.75 20.953125 \nQ 41.75 27 37.796875 30.921875 \nQ 33.84375 34.859375 27.734375 34.859375 \nQ 25.25 34.859375 21.53125 33.890625 \nL 22.515625 41.609375 \nQ 23.390625 41.5 23.921875 41.5 \nQ 29.546875 41.5 34.03125 44.421875 \nQ 38.53125 47.359375 38.53125 53.46875 \nQ 38.53125 58.296875 35.25 61.46875 \nQ 31.984375 64.65625 26.8125 64.65625 \nQ 21.6875 64.65625 18.265625 61.421875 \nQ 14.84375 58.203125 13.875 51.765625 \nL 5.078125 53.328125 \nQ 6.6875 62.15625 12.390625 67.015625 \nQ 18.109375 71.875 26.609375 71.875 \nQ 32.46875 71.875 37.390625 69.359375 \nQ 42.328125 66.84375 44.9375 62.5 \nQ 47.5625 58.15625 47.5625 53.265625 \nQ 47.5625 48.640625 45.0625 44.828125 \nQ 42.578125 41.015625 37.703125 38.765625 \nQ 44.046875 37.3125 47.5625 32.6875 \nQ 51.078125 28.078125 51.078125 21.140625 \nQ 51.078125 11.765625 44.234375 5.25 \nQ 37.40625 -1.265625 26.953125 -1.265625 \nQ 17.53125 -1.265625 11.296875 4.34375 \nQ 5.078125 9.96875 4.203125 18.890625 \nz\n\" id=\"ArialMT-51\"/>\n    </defs>\n    <g style=\"fill:#262626;\" transform=\"translate(86.084531 64.662187)scale(0.12 -0.12)\">\n     <use xlink:href=\"#ArialMT-57\"/>\n     <use x=\"55.615234\" xlink:href=\"#ArialMT-54\"/>\n     <use x=\"111.230469\" xlink:href=\"#ArialMT-51\"/>\n    </g>\n   </g>\n   <g id=\"text_8\">\n    <!-- 33 -->\n    <g style=\"fill:#ffffff;\" transform=\"translate(198.141094 64.662187)scale(0.12 -0.12)\">\n     <use xlink:href=\"#ArialMT-51\"/>\n     <use x=\"55.615234\" xlink:href=\"#ArialMT-51\"/>\n    </g>\n   </g>\n   <g id=\"text_9\">\n    <!-- 0 -->\n    <defs>\n     <path d=\"M 4.15625 35.296875 \nQ 4.15625 48 6.765625 55.734375 \nQ 9.375 63.484375 14.515625 67.671875 \nQ 19.671875 71.875 27.484375 71.875 \nQ 33.25 71.875 37.59375 69.546875 \nQ 41.9375 67.234375 44.765625 62.859375 \nQ 47.609375 58.5 49.21875 52.21875 \nQ 50.828125 45.953125 50.828125 35.296875 \nQ 50.828125 22.703125 48.234375 14.96875 \nQ 45.65625 7.234375 40.5 3 \nQ 35.359375 -1.21875 27.484375 -1.21875 \nQ 17.140625 -1.21875 11.234375 6.203125 \nQ 4.15625 15.140625 4.15625 35.296875 \nz\nM 13.1875 35.296875 \nQ 13.1875 17.671875 17.3125 11.828125 \nQ 21.4375 6 27.484375 6 \nQ 33.546875 6 37.671875 11.859375 \nQ 41.796875 17.71875 41.796875 35.296875 \nQ 41.796875 52.984375 37.671875 58.78125 \nQ 33.546875 64.59375 27.390625 64.59375 \nQ 21.34375 64.59375 17.71875 59.46875 \nQ 13.1875 52.9375 13.1875 35.296875 \nz\n\" id=\"ArialMT-48\"/>\n    </defs>\n    <g style=\"fill:#ffffff;\" transform=\"translate(92.757656 173.382187)scale(0.12 -0.12)\">\n     <use xlink:href=\"#ArialMT-48\"/>\n    </g>\n   </g>\n   <g id=\"text_10\">\n    <!-- 116 -->\n    <defs>\n     <path d=\"M 37.25 0 \nL 28.46875 0 \nL 28.46875 56 \nQ 25.296875 52.984375 20.140625 49.953125 \nQ 14.984375 46.921875 10.890625 45.40625 \nL 10.890625 53.90625 \nQ 18.265625 57.375 23.78125 62.296875 \nQ 29.296875 67.234375 31.59375 71.875 \nL 37.25 71.875 \nz\n\" id=\"ArialMT-49\"/>\n    </defs>\n    <g style=\"fill:#ffffff;\" transform=\"translate(194.811094 173.382187)scale(0.12 -0.12)\">\n     <use xlink:href=\"#ArialMT-49\"/>\n     <use x=\"55.505859\" xlink:href=\"#ArialMT-49\"/>\n     <use x=\"111.121094\" xlink:href=\"#ArialMT-54\"/>\n    </g>\n   </g>\n  </g>\n </g>\n <defs>\n  <clipPath id=\"p3bc3920c10\">\n   <rect height=\"217.44\" width=\"217.44\" x=\"41.734219\" y=\"7.2\"/>\n  </clipPath>\n </defs>\n</svg>\n",
      "text/plain": "<Figure size 432x288 with 1 Axes>"
     },
     "metadata": {},
     "output_type": "display_data"
    }
   ],
   "source": [
    "#\n",
    "targets = dataset.type.unique()\n",
    "\n",
    "#\n",
    "sns.set()\n",
    "sns.heatmap(cmat.T, square=True, annot=True, fmt='d', cbar=False,\n",
    "            xticklabels=targets, yticklabels=targets)\n",
    "\n",
    "plt.xlabel('actual')\n",
    "plt.ylabel('predicted');\n",
    "plt.show()"
   ]
  },
  {
   "cell_type": "code",
   "execution_count": 22,
   "metadata": {},
   "outputs": [
    {
     "name": "stdout",
     "output_type": "stream",
     "text": "precision    recall  f1-score   support\n\n         ham       0.97      1.00      0.98       963\n        spam       1.00      0.78      0.88       149\n\n    accuracy                           0.97      1112\n   macro avg       0.98      0.89      0.93      1112\nweighted avg       0.97      0.97      0.97      1112\n\n"
    }
   ],
   "source": [
    "print(classification_report(y_test, y_predicted))"
   ]
  },
  {
   "cell_type": "code",
   "execution_count": 23,
   "metadata": {},
   "outputs": [
    {
     "name": "stdout",
     "output_type": "stream",
     "text": "ham 0    Hope you are having a good week. Just checking in\nName: text, dtype: object \n\nspam 3    complimentary 4 STAR Ibiza Holiday or £10,000 ...\nName: text, dtype: object\n"
    }
   ],
   "source": [
    "#\n",
    "test_case_ham = dataset.query('type == \"ham\"').head(1).loc[:, 'text']\n",
    "test_case_spam = dataset.query('type == \"spam\"').head(1).loc[:, 'text']\n",
    "\n",
    "#\n",
    "test_case_ham_unknown = pd.Series(['Hello world - take care and keep distance'])\n",
    "test_case_spam_unknown = pd.Series(['You just won the huge jackpot of 1.000.000$ - click here to collect it!'])\n",
    "\n",
    "#\n",
    "print('ham', test_case_ham, '\\n')\n",
    "print('spam', test_case_spam)"
   ]
  },
  {
   "cell_type": "code",
   "execution_count": 24,
   "metadata": {},
   "outputs": [
    {
     "name": "stdout",
     "output_type": "stream",
     "text": "predict known ham:: ['ham']\npredict known spam:: ['spam']\n"
    }
   ],
   "source": [
    "#\n",
    "print('predict known ham::', model.predict(test_case_ham))\n",
    "print('predict known spam::', model.predict(test_case_spam))"
   ]
  },
  {
   "cell_type": "code",
   "execution_count": 25,
   "metadata": {},
   "outputs": [
    {
     "name": "stdout",
     "output_type": "stream",
     "text": "predict unknown ham:: ['ham']\npredict unknown spam:: ['spam']\n"
    }
   ],
   "source": [
    "#\n",
    "print('predict unknown ham::', model.predict(test_case_ham_unknown))\n",
    "print('predict unknown spam::', model.predict(test_case_spam_unknown))"
   ]
  },
  {
   "cell_type": "code",
   "execution_count": null,
   "metadata": {},
   "outputs": [],
   "source": []
  }
 ]
}